{
  "nbformat": 4,
  "nbformat_minor": 0,
  "metadata": {
    "colab": {
      "provenance": [],
      "authorship_tag": "ABX9TyNVjJVMZhWZLzrZMOIIBTVe",
      "include_colab_link": true
    },
    "kernelspec": {
      "name": "python3",
      "display_name": "Python 3"
    },
    "language_info": {
      "name": "python"
    }
  },
  "cells": [
    {
      "cell_type": "markdown",
      "metadata": {
        "id": "view-in-github",
        "colab_type": "text"
      },
      "source": [
        "<a href=\"https://colab.research.google.com/github/iori1250/git-practice/blob/master/%E3%83%96%E3%83%A9%E3%83%83%E3%82%AF%E3%82%B8%E3%83%A3%E3%83%83%E3%82%AF.ipynb\" target=\"_parent\"><img src=\"https://colab.research.google.com/assets/colab-badge.svg\" alt=\"Open In Colab\"/></a>"
      ]
    },
    {
      "cell_type": "code",
      "execution_count": 3,
      "metadata": {
        "colab": {
          "base_uri": "https://localhost:8080/"
        },
        "id": "j41pKXjThlpY",
        "outputId": "268d3745-ccbf-4123-dec6-f6cf75842a26"
      },
      "outputs": [
        {
          "output_type": "stream",
          "name": "stdout",
          "text": [
            "[1, 2, 3, 4, 5, 6, 7, 8, 9, 10, 11, 12, 13, 1, 2, 3, 4, 5, 6, 7, 8, 9, 10, 11, 12, 13, 1, 2, 3, 4, 5, 6, 7, 8, 9, 10, 11, 12, 13, 1, 2, 3, 4, 5, 6, 7, 8, 9, 10, 11, 12, 13]\n",
            "card_list: ['H5', 'D5', 'C3', 'H8', 'CJ', 'D4', 'S8', 'C4', 'H4', 'C6', 'S10', 'D2', 'H9', 'C10', 'D7', 'CQ', 'S6', 'D10', 'H10', 'HA', 'H2', 'CK', 'D6', 'H7', 'HK', 'S2', 'DQ', 'S9', 'SQ', 'DK', 'C9', 'D3', 'DJ', 'HJ', 'CA', 'S4', 'H6', 'S5', 'C8', 'H3', 'C7', 'C2', 'SJ', 'SA', 'S7', 'D9', 'C5', 'SK', 'HQ', 'DA', 'D8', 'S3']\n",
            "card_dict: {'CA': 1, 'C2': 2, 'C3': 3, 'C4': 4, 'C5': 5, 'C6': 6, 'C7': 7, 'C8': 8, 'C9': 9, 'C10': 10, 'CJ': 11, 'CQ': 12, 'CK': 13, 'SA': 1, 'S2': 2, 'S3': 3, 'S4': 4, 'S5': 5, 'S6': 6, 'S7': 7, 'S8': 8, 'S9': 9, 'S10': 10, 'SJ': 11, 'SQ': 12, 'SK': 13, 'DA': 1, 'D2': 2, 'D3': 3, 'D4': 4, 'D5': 5, 'D6': 6, 'D7': 7, 'D8': 8, 'D9': 9, 'D10': 10, 'DJ': 11, 'DQ': 12, 'DK': 13, 'HA': 1, 'H2': 2, 'H3': 3, 'H4': 4, 'H5': 5, 'H6': 6, 'H7': 7, 'H8': 8, 'H9': 9, 'H10': 10, 'HJ': 11, 'HQ': 12, 'HK': 13}\n",
            "ディーラーのカードは S3\n",
            "プレイヤーのカードは ['DA', 'HQ'] 合計が 11\n",
            "ヒット or スタンド (HIT/STAND): HIT\n",
            "あなたに SK が配られ、カードは ['DA', 'HQ', 'SK'] 合計は 21 \n",
            "ヒット or スタンド (HIT/STAND): STAND\n",
            "ディーラーに D8 が配られ、カードは ['S3', 'D8'] 合計は 11\n",
            "ディーラーに H8 が配られ、カードは ['S3', 'D8', 'H8'] 合計は 19\n",
            "ディーラーの合計は 19 あなたの合計は 21\n",
            "YOU WIN!\n"
          ]
        }
      ],
      "source": [
        "import random\n",
        "def prepare_card():\n",
        " symbol_list=['C','S','D','H']\n",
        " number_list=[1,2,3,4,5,6,7,8,9,10,11,12,13]\n",
        " card_list=[]\n",
        " number_list4=number_list*4\n",
        " print(number_list4)\n",
        " for symbol in symbol_list:\n",
        "   for number in range(1,14):\n",
        "    if number==1:\n",
        "     card=symbol+'A'\n",
        "    elif number==11:\n",
        "     card=symbol+'J'\n",
        "    elif number==12:\n",
        "     card=symbol+'Q'\n",
        "    elif number==13:\n",
        "     card=symbol+'K'\n",
        "    else :\n",
        "     card=symbol+str(number)\n",
        "    card_list.append(card)\n",
        " card_dict=dict(zip(card_list,number_list4))\n",
        " random.shuffle(card_list)\n",
        " return card_list,card_dict\n",
        "\n",
        "card_list,card_dict=prepare_card()\n",
        "print('card_list:',card_list)\n",
        "print('card_dict:',card_dict)\n",
        "\n",
        "def draw():\n",
        "    hand = []\n",
        "    for i in range(2):\n",
        "        card = card_list.pop()\n",
        "        hand.append(card)\n",
        "    return hand\n",
        "\n",
        "\n",
        "def hit(hand):\n",
        "    random.shuffle(card_list)\n",
        "    card = card_list.pop()\n",
        "    hand.append(card)\n",
        "    return hand\n",
        "\n",
        "\n",
        "def total(hand):\n",
        "    score = 0\n",
        "    for n in hand:\n",
        "        if card_dict[n] == 11 or card_dict[n] == 12 or card_dict[n] == 13:\n",
        "            score = score + 10\n",
        "        elif card_dict[n] == 1 :\n",
        "            score = score + 1\n",
        "        else:\n",
        "            score += card_dict[n]\n",
        "    return score\n",
        "\n",
        "def result(hand_d, hand_p):\n",
        "    if total(hand_p) > total(hand_d):\n",
        "        print(f\"ディーラーの合計は {total(hand_d)} あなたの合計は {total(hand_p)}\\nYOU WIN!\")\n",
        "    elif total(hand_d) >= total(hand_p):\n",
        "        print(f\"ディーラーの合計は {total(hand_d)} あなたの合計は {total(hand_p)}\\nYOU LOSE\")\n",
        "\n",
        "\n",
        "def game():\n",
        "    hand_d = draw()\n",
        "    hand_p = draw()\n",
        "    print(f\"ディーラーのカードは {hand_d[0]}\")\n",
        "    print(f\"プレイヤーのカードは {hand_p} 合計が {total(hand_p)}\")\n",
        "\n",
        "    choice = 0\n",
        "\n",
        "    while choice != quit:\n",
        "        choice = input(\"ヒット or スタンド (HIT/STAND): \").lower()\n",
        "        if choice == \"hit\":\n",
        "            hit(hand_p)\n",
        "            print(\n",
        "                f\"あなたに {hand_p[-1]} が配られ、カードは {hand_p} 合計は {total(hand_p)} \")\n",
        "            if total(hand_p) > 21:\n",
        "                print(\"バーストしました\\nYOU LOSE\")\n",
        "                choice = quit\n",
        "\n",
        "        elif choice == \"stand\":\n",
        "            print(f\"ディーラーに {hand_d[1]} が配られ、カードは {hand_d} 合計は {total(hand_d)}\")\n",
        "            while total(hand_d) < 17:\n",
        "                hit(hand_d)\n",
        "                print(f\"ディーラーに {hand_d[-1]} が配られ、カードは {hand_d} 合計は {total(hand_d)}\")\n",
        "                if total(hand_d) > 21:\n",
        "                    print(\"バーストしました\\nYOU WIN!\")\n",
        "                    choice = quit\n",
        "\n",
        "            if total(hand_d) <= 21:\n",
        "                result(hand_d, hand_p)\n",
        "                choice = quit\n",
        "\n",
        "game()"
      ]
    }
  ]
}